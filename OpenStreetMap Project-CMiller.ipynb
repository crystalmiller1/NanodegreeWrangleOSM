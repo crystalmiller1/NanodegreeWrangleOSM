{
 "cells": [
  {
   "cell_type": "markdown",
   "metadata": {},
   "source": [
    "# Open Street Map Project\n",
    "### By Crystal Miller SID-000936380\n",
    "___"
   ]
  },
  {
   "cell_type": "markdown",
   "metadata": {},
   "source": [
    "## Map Area\n",
    "\n",
    "Colorado Springs, CO USA\n",
    "\n",
    "- https://www.openstreetmap.org/export#map=13/38.9326/-104.8302\n",
    "\n",
    "Colorado Springs is an area I lived in for 15 years. I learned how to drive and had a job delivering pizzas there so am very familiar with the area. I thought it would be interesting to see how the map data compares with my memories of the area and if I can improve it in any way.\n",
    "___"
   ]
  },
  {
   "cell_type": "markdown",
   "metadata": {},
   "source": [
    "## Data Cleaning Process Findings\n",
    "The overall data for the Colorado Springs, CO map area was very clean. After formatting and writing the data to CSV files, I used Oracle SQL to investigate the data with the following findings:\n",
    "1. Validity:  \n",
    "    - The sample schema given in the Udacity project directions was used. It needed to be adapted for Oracle SQL, mainly using different names for data types. (ex. TEXT vs. VARCHAR2 data types) No problems were found with data types matching the schema.\n",
    "2. Accuracy:\n",
    "    - Because the data is used by many people, the accuracy is subject to the users' perceptions. There are very few Map Notes in this area, indicating that it is likely to be relatively accurate.\n",
    "3. Completeness:\n",
    "    - When I imported the data to the database, I skipped over nodes with problem characters that might cause issues in the import process. This creates the risk that some information may be excluded unintentionally. An example of this is noted in the issues encountered section. Some phone number formats contained problem characters and were excluded. If this phone number format was used by a certain contributor, this could have caused unintentional exclusion of that contributor's data.\n",
    "4. Consistency:\n",
    "    - The random data points I investigated were consistent with other map sources (i.e. Google Maps)\n",
    "5. Uniformity:\n",
    "    - I ran queries on multiple tags, including postal codes, street types, and name direction pre/suffixes. I did not find any inconsistencies. Issues I looked for included duplicated types with different spellings and formatting. (ex. Ct vs. Court or S vs. South; see below query)\n",
    "    - Formatting was consistent throughout all addresses. Phone number formatting was not consistent. Some different formats found were:\n",
    "        - +1 ### ### ####\n",
    "        - +1-###-###-####\n",
    "        - +1 (###) ###-####\n",
    "        - ###-###-####\n",
    "___"
   ]
  },
  {
   "cell_type": "markdown",
   "metadata": {},
   "source": [
    "### Auditing Street Types"
   ]
  },
  {
   "cell_type": "code",
   "execution_count": null,
   "metadata": {},
   "outputs": [],
   "source": [
    "SELECT wt_value Street_Type, count(*) Occurrences\n",
    "FROM ways_tags\n",
    "WHERE wt_key = 'name_type'\n",
    "GROUP BY wt_value\n",
    "ORDER BY Occurrences DESC;"
   ]
  },
  {
   "cell_type": "markdown",
   "metadata": {},
   "source": [
    "STREET_TYPE | OCCURRENCES\n",
    "--- | ---\n",
    "Dr       | 654  \n",
    "Ct       | 299  \n",
    "Rd       | 127  \n",
    "Ln       | 123  \n",
    "Cir      | 111  \n",
    "Way      | 92  \n",
    "Blvd     | 90  \n",
    "Pl       | 89  \n",
    "Ter      | 32  \n",
    "Trl      | 32  \n",
    "St       | 30  \n",
    "Ave      | 15  \n",
    "Loop     | 11  \n",
    "Pky      | 9  \n",
    "Sq       | 3  \n",
    "Ln; Dr   | 3  \n",
    "Dr; Ct   | 3  \n",
    "Dr; Rd   | 2  \n",
    "Path     | 2  \n",
    "Cir; Trl | 1  \n",
    "Plz      | 1  \n",
    "Ln:Ln; Dr| 1  \n",
    "\n",
    "___"
   ]
  },
  {
   "cell_type": "markdown",
   "metadata": {},
   "source": [
    "## Issues Encountered in data cleaning\n",
    "- csv files saved with a blank line between each record.\n",
    "    - Since the files were written to csv only once, it made the most sense to correct this directly within the csv file itself.\n",
    "- Phone numbers imported to csv incorrectly\n",
    "    - Since the decision was made to exclude problem characters from the dataset, this caused phone numbers with certain formats to be skewed when writing to csv. If I planned on using this code on another project, this would be something that would need to be investigated and corrected.    \n",
    "___"
   ]
  },
  {
   "cell_type": "markdown",
   "metadata": {},
   "source": [
    "## Issues Encountered in the Map\n",
    "- Multiple formats for phone numbers used\n",
    "    - Pros and Cons for correcting phone number formatting:\n",
    "        - Pro: Using one format would help with consistency. Inconsistent phone numbers could cause problems if this data is being used by another program.\n",
    "        - Con: It would be complicated to anticipate and write code to correct each type of format. I would probably attempt to convert all of the phone numbers into a number format, removing any additional characters and then re-format them in the preferred way. This would probably involve quite a bit of trial and error.\n",
    "        - Con: A relatively small number of way nodes contain phone numbers. (258 ways or 0.8%) Updating the formatting may not be worth the effort.\n",
    "- Incorrect postal code encountered\n",
    "    - One address contained an incorrect postal code. It has been updated in the database using the queries below."
   ]
  },
  {
   "cell_type": "markdown",
   "metadata": {},
   "source": [
    "### Phone Number Formatting\n",
    "- It should be noted that the following queries were run on the dataset within the database that sampled the data without problem characters. The actual data has additional formats."
   ]
  },
  {
   "cell_type": "code",
   "execution_count": null,
   "metadata": {},
   "outputs": [],
   "source": [
    "SELECT count(*)\n",
    "FROM ways_tags\n",
    "WHERE wt_key = 'phone'\n",
    "AND wt_value LIKE '+1%';"
   ]
  },
  {
   "cell_type": "markdown",
   "metadata": {},
   "source": [
    "count of wt_value with '+1' at the beginning = 6"
   ]
  },
  {
   "cell_type": "code",
   "execution_count": null,
   "metadata": {},
   "outputs": [],
   "source": [
    "SELECT count(*)\n",
    "FROM ways_tags\n",
    "WHERE wt_key = 'phone'\n",
    "AND wt_value LIKE '%(%';"
   ]
  },
  {
   "cell_type": "markdown",
   "metadata": {},
   "source": [
    "count of wt_value containing the ')' character = 6"
   ]
  },
  {
   "cell_type": "code",
   "execution_count": null,
   "metadata": {},
   "outputs": [],
   "source": [
    "SELECT count(*)\n",
    "FROM ways_tags\n",
    "WHERE wt_key = 'phone'\n",
    "AND wt_value LIKE '% %';"
   ]
  },
  {
   "cell_type": "markdown",
   "metadata": {},
   "source": [
    "count of wt_value with at least one space = 13"
   ]
  },
  {
   "cell_type": "code",
   "execution_count": null,
   "metadata": {},
   "outputs": [],
   "source": [
    "SELECT count(*)\n",
    "FROM ways_tags\n",
    "WHERE wt_key = 'phone'\n",
    "AND wt_value LIKE '%-%';"
   ]
  },
  {
   "cell_type": "markdown",
   "metadata": {},
   "source": [
    "count of wt_value containing the '-' character = 114"
   ]
  },
  {
   "cell_type": "markdown",
   "metadata": {},
   "source": [
    "### Incorrect Postal Code\n",
    "- Upon investigation of the postal codes used in the area, there were three outliers. The range excluding these is between 80907 and 80924.  Two of these are 80840 which belongs to the Air Force Academy in the area. The other is 80820 which was determined to be erroneous. "
   ]
  },
  {
   "cell_type": "code",
   "execution_count": null,
   "metadata": {},
   "outputs": [],
   "source": [
    "SELECT wt_value, COUNT(*)\n",
    "FROM ways_tags\n",
    "WHERE wt_key = 'postcode'\n",
    "GROUP BY wt_value\n",
    "ORDER BY wt_value;"
   ]
  },
  {
   "cell_type": "markdown",
   "metadata": {},
   "source": [
    "Postcode | Occurences\n",
    "--- | ---\n",
    "80820\t| 1\n",
    "80840\t| 2\n",
    "80907\t| 27\n",
    "80917\t| 12\n",
    "80918\t| 386\n",
    "80919\t| 22\n",
    "80920\t| 119\n",
    "80923\t| 459\n",
    "80924\t| 8"
   ]
  },
  {
   "cell_type": "code",
   "execution_count": null,
   "metadata": {},
   "outputs": [],
   "source": [
    "SELECT wt_key \"key\", wt_value \"value\", way_user \"user\", way_uid \"user_id\"\n",
    "    FROM ways_tags, ways\n",
    "    WHERE ways_tags.wt_id = ways.way_id\n",
    "    AND wt_id =\n",
    "        (SELECT wt_id\n",
    "        FROM ways_tags\n",
    "        WHERE wt_value = '80820');"
   ]
  },
  {
   "cell_type": "markdown",
   "metadata": {},
   "source": [
    "key | value | user| user_id\n",
    "--- | --- | --- | ---\n",
    "housenumber\t| 1175 | b-jazz-bot\t9451067\n",
    "postcode |\t80820 |\tb-jazz-bot\t9451067\n",
    "street |\tChapel Hills Drive |\tb-jazz-bot\t9451067\n",
    "amenity |\tlibrary\tb-jazz-bot |\t9451067\n",
    "building |\tyes\tb-jazz-bot |\t9451067\n",
    "name |\tLibrary 21C\tb-jazz-bot |\t9451067\n",
    "operator |\tPikes Peak Library District |\tb-jazz-bot |\t9451067\n",
    "phone |\t-11402 |\tb-jazz-bot |\t9451067\n",
    "website |\thttps://ppld.org/ |\tb-jazz-bot |\t9451067"
   ]
  },
  {
   "cell_type": "markdown",
   "metadata": {},
   "source": [
    "The address, 1175 Chapel Hills Drive, shows as Pikes Peak Library District in Colorado Springs on Google Maps with the postcode 80920 instead of the value 80820 in the OSM data.<sup>2</sup> 80820 belongs to an entirely different location. (Guffey, CO) This appears to be a typo."
   ]
  },
  {
   "cell_type": "code",
   "execution_count": null,
   "metadata": {},
   "outputs": [],
   "source": [
    "UPDATE ways_tags\n",
    "SET wt_value = '80920'\n",
    "WHERE wt_value = '80820';"
   ]
  },
  {
   "cell_type": "markdown",
   "metadata": {},
   "source": [
    "___"
   ]
  },
  {
   "cell_type": "markdown",
   "metadata": {},
   "source": [
    "## Dataset Statistics"
   ]
  },
  {
   "cell_type": "markdown",
   "metadata": {},
   "source": [
    "- Area Used\n",
    "    - minlat=\"38.8881000\" \n",
    "    - minlon=\"-104.9320000\" \n",
    "    - maxlat=\"38.9772000\" \n",
    "    - maxlon=\"-104.7284000\"\n",
    "- File Size\n",
    "    - Colorado Springs Area OpenStreetMap OSM XML file: 53,151 KB"
   ]
  },
  {
   "cell_type": "code",
   "execution_count": null,
   "metadata": {},
   "outputs": [],
   "source": [
    "SELECT count(UNIQUE(node_uid))\n",
    "FROM nodes;\n",
    "\n",
    "SELECT count(*)\n",
    "FROM nodes;\n",
    "\n",
    "SELECT count(*)\n",
    "FROM ways;\n",
    "\n",
    "SELECT count(*)\n",
    "FROM nodes_tags\n",
    "WHERE nt_value = 'school';\n",
    "\n",
    "SELECT count(*)\n",
    "FROM nodes_tags\n",
    "WHERE nt_value = 'church';"
   ]
  },
  {
   "cell_type": "markdown",
   "metadata": {},
   "source": [
    "Statistic | Count\n",
    "--- | ---\n",
    "Unique Users | 491\n",
    "Nodes | 243,195\n",
    "Ways | 31,303\n",
    "Schools | 63\n",
    "Churches | 29"
   ]
  },
  {
   "cell_type": "markdown",
   "metadata": {},
   "source": [
    "## Sources\n",
    "\n",
    "1. Github by SpecCRA https://github.com/SpecCRA/quiz_preparing_for_database_sql/blob/master/quiz_preparing_for_database_sql.py\n",
    "\n",
    "2. Google Maps  https://www.google.com/maps/place/1175+Chapel+Hills+Dr,+Colorado+Springs,+CO+80920/@38.9534196,-104.7953066,17z/data=!3m1!4b1!4m5!3m4!1s0x87134c2a273f2c01:0xa81e962a13fd930e!8m2!3d38.9534196!4d-104.7931179\n",
    "    "
   ]
  }
 ],
 "metadata": {
  "kernelspec": {
   "display_name": "Python 3",
   "language": "python",
   "name": "python3"
  },
  "language_info": {
   "codemirror_mode": {
    "name": "ipython",
    "version": 3
   },
   "file_extension": ".py",
   "mimetype": "text/x-python",
   "name": "python",
   "nbconvert_exporter": "python",
   "pygments_lexer": "ipython3",
   "version": "3.6.10"
  }
 },
 "nbformat": 4,
 "nbformat_minor": 4
}
